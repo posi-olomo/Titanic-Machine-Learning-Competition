{
 "cells": [
  {
   "cell_type": "code",
   "execution_count": 1,
   "id": "through-button",
   "metadata": {
    "_cell_guid": "b1076dfc-b9ad-4769-8c92-a6c4dae69d19",
    "_uuid": "8f2839f25d086af736a60e9eeb907d3b93b6e0e5",
    "execution": {
     "iopub.execute_input": "2021-08-05T10:11:53.949973Z",
     "iopub.status.busy": "2021-08-05T10:11:53.949136Z",
     "iopub.status.idle": "2021-08-05T10:11:53.954282Z",
     "shell.execute_reply": "2021-08-05T10:11:53.953631Z",
     "shell.execute_reply.started": "2021-08-05T10:03:12.638749Z"
    },
    "papermill": {
     "duration": 0.035791,
     "end_time": "2021-08-05T10:11:53.954481",
     "exception": false,
     "start_time": "2021-08-05T10:11:53.918690",
     "status": "completed"
    },
    "tags": []
   },
   "outputs": [
    {
     "name": "stdout",
     "output_type": "stream",
     "text": [
      "/kaggle/input/titanic/train.csv\n",
      "/kaggle/input/titanic/test.csv\n",
      "/kaggle/input/titanic/gender_submission.csv\n"
     ]
    }
   ],
   "source": [
    "# This Python 3 environment comes with many helpful analytics libraries installed\n",
    "# It is defined by the kaggle/python Docker image: https://github.com/kaggle/docker-python\n",
    "# For example, here's several helpful packages to load\n",
    "\n",
    "import numpy as np # linear algebra\n",
    "import pandas as pd # data processing, CSV file I/O (e.g. pd.read_csv)\n",
    "\n",
    "# Input data files are available in the read-only \"../input/\" directory\n",
    "# For example, running this (by clicking run or pressing Shift+Enter) will list all files under the input directory\n",
    "\n",
    "import os\n",
    "for dirname, _, filenames in os.walk('/kaggle/input'):\n",
    "    for filename in filenames:\n",
    "        print(os.path.join(dirname, filename))\n",
    "\n",
    "# You can write up to 20GB to the current directory (/kaggle/working/) that gets preserved as output when you create a version using \"Save & Run All\" \n",
    "# You can also write temporary files to /kaggle/temp/, but they won't be saved outside of the current session"
   ]
  },
  {
   "cell_type": "code",
   "execution_count": 2,
   "id": "applicable-albuquerque",
   "metadata": {
    "execution": {
     "iopub.execute_input": "2021-08-05T10:11:53.993627Z",
     "iopub.status.busy": "2021-08-05T10:11:53.992950Z",
     "iopub.status.idle": "2021-08-05T10:11:55.325624Z",
     "shell.execute_reply": "2021-08-05T10:11:55.325016Z",
     "shell.execute_reply.started": "2021-08-05T10:03:12.655404Z"
    },
    "papermill": {
     "duration": 1.354752,
     "end_time": "2021-08-05T10:11:55.325809",
     "exception": false,
     "start_time": "2021-08-05T10:11:53.971057",
     "status": "completed"
    },
    "tags": []
   },
   "outputs": [],
   "source": [
    "from sklearn.metrics import mean_absolute_error as mae\n",
    "from sklearn.metrics import roc_auc_score\n",
    "from sklearn.model_selection import cross_val_score\n",
    "from sklearn.metrics import confusion_matrix, classification_report\n",
    "from sklearn.compose import ColumnTransformer\n",
    "from sklearn.datasets import fetch_openml\n",
    "from sklearn.pipeline import Pipeline\n",
    "from sklearn.impute import SimpleImputer\n",
    "from sklearn.preprocessing import StandardScaler, OneHotEncoder\n",
    "from sklearn.linear_model import LogisticRegression\n",
    "from sklearn.model_selection import train_test_split, GridSearchCV"
   ]
  },
  {
   "cell_type": "code",
   "execution_count": 3,
   "id": "sunrise-italy",
   "metadata": {
    "execution": {
     "iopub.execute_input": "2021-08-05T10:11:55.363779Z",
     "iopub.status.busy": "2021-08-05T10:11:55.363083Z",
     "iopub.status.idle": "2021-08-05T10:11:55.387991Z",
     "shell.execute_reply": "2021-08-05T10:11:55.388558Z",
     "shell.execute_reply.started": "2021-08-05T10:03:12.671645Z"
    },
    "papermill": {
     "duration": 0.046436,
     "end_time": "2021-08-05T10:11:55.388739",
     "exception": false,
     "start_time": "2021-08-05T10:11:55.342303",
     "status": "completed"
    },
    "tags": []
   },
   "outputs": [],
   "source": [
    "train_data = pd.read_csv('/kaggle/input/titanic/train.csv')\n",
    "y = train_data['Survived']"
   ]
  },
  {
   "cell_type": "code",
   "execution_count": 4,
   "id": "signed-primary",
   "metadata": {
    "execution": {
     "iopub.execute_input": "2021-08-05T10:11:55.432035Z",
     "iopub.status.busy": "2021-08-05T10:11:55.431310Z",
     "iopub.status.idle": "2021-08-05T10:11:55.434280Z",
     "shell.execute_reply": "2021-08-05T10:11:55.434788Z",
     "shell.execute_reply.started": "2021-08-05T10:03:12.727202Z"
    },
    "papermill": {
     "duration": 0.03015,
     "end_time": "2021-08-05T10:11:55.434958",
     "exception": false,
     "start_time": "2021-08-05T10:11:55.404808",
     "status": "completed"
    },
    "tags": []
   },
   "outputs": [
    {
     "data": {
      "text/plain": [
       "Index(['Pclass', 'Sex', 'Age', 'SibSp', 'Parch', 'Fare', 'Embarked'], dtype='object')"
      ]
     },
     "execution_count": 4,
     "metadata": {},
     "output_type": "execute_result"
    }
   ],
   "source": [
    "X = train_data\n",
    "X = X.drop(['PassengerId', 'Survived','Ticket','Cabin','Name'],axis = 1)\n",
    "X.columns"
   ]
  },
  {
   "cell_type": "code",
   "execution_count": 5,
   "id": "collected-station",
   "metadata": {
    "execution": {
     "iopub.execute_input": "2021-08-05T10:11:55.470400Z",
     "iopub.status.busy": "2021-08-05T10:11:55.469747Z",
     "iopub.status.idle": "2021-08-05T10:11:55.491012Z",
     "shell.execute_reply": "2021-08-05T10:11:55.490473Z",
     "shell.execute_reply.started": "2021-08-05T10:03:12.752125Z"
    },
    "papermill": {
     "duration": 0.039986,
     "end_time": "2021-08-05T10:11:55.491152",
     "exception": false,
     "start_time": "2021-08-05T10:11:55.451166",
     "status": "completed"
    },
    "tags": []
   },
   "outputs": [
    {
     "data": {
      "text/html": [
       "<div>\n",
       "<style scoped>\n",
       "    .dataframe tbody tr th:only-of-type {\n",
       "        vertical-align: middle;\n",
       "    }\n",
       "\n",
       "    .dataframe tbody tr th {\n",
       "        vertical-align: top;\n",
       "    }\n",
       "\n",
       "    .dataframe thead th {\n",
       "        text-align: right;\n",
       "    }\n",
       "</style>\n",
       "<table border=\"1\" class=\"dataframe\">\n",
       "  <thead>\n",
       "    <tr style=\"text-align: right;\">\n",
       "      <th></th>\n",
       "      <th>Pclass</th>\n",
       "      <th>Sex</th>\n",
       "      <th>Age</th>\n",
       "      <th>SibSp</th>\n",
       "      <th>Parch</th>\n",
       "      <th>Fare</th>\n",
       "      <th>Embarked</th>\n",
       "    </tr>\n",
       "  </thead>\n",
       "  <tbody>\n",
       "    <tr>\n",
       "      <th>0</th>\n",
       "      <td>3</td>\n",
       "      <td>male</td>\n",
       "      <td>22.0</td>\n",
       "      <td>1</td>\n",
       "      <td>0</td>\n",
       "      <td>7.2500</td>\n",
       "      <td>S</td>\n",
       "    </tr>\n",
       "    <tr>\n",
       "      <th>1</th>\n",
       "      <td>1</td>\n",
       "      <td>female</td>\n",
       "      <td>38.0</td>\n",
       "      <td>1</td>\n",
       "      <td>0</td>\n",
       "      <td>71.2833</td>\n",
       "      <td>C</td>\n",
       "    </tr>\n",
       "    <tr>\n",
       "      <th>2</th>\n",
       "      <td>3</td>\n",
       "      <td>female</td>\n",
       "      <td>26.0</td>\n",
       "      <td>0</td>\n",
       "      <td>0</td>\n",
       "      <td>7.9250</td>\n",
       "      <td>S</td>\n",
       "    </tr>\n",
       "    <tr>\n",
       "      <th>3</th>\n",
       "      <td>1</td>\n",
       "      <td>female</td>\n",
       "      <td>35.0</td>\n",
       "      <td>1</td>\n",
       "      <td>0</td>\n",
       "      <td>53.1000</td>\n",
       "      <td>S</td>\n",
       "    </tr>\n",
       "    <tr>\n",
       "      <th>4</th>\n",
       "      <td>3</td>\n",
       "      <td>male</td>\n",
       "      <td>35.0</td>\n",
       "      <td>0</td>\n",
       "      <td>0</td>\n",
       "      <td>8.0500</td>\n",
       "      <td>S</td>\n",
       "    </tr>\n",
       "  </tbody>\n",
       "</table>\n",
       "</div>"
      ],
      "text/plain": [
       "   Pclass     Sex   Age  SibSp  Parch     Fare Embarked\n",
       "0       3    male  22.0      1      0   7.2500        S\n",
       "1       1  female  38.0      1      0  71.2833        C\n",
       "2       3  female  26.0      0      0   7.9250        S\n",
       "3       1  female  35.0      1      0  53.1000        S\n",
       "4       3    male  35.0      0      0   8.0500        S"
      ]
     },
     "execution_count": 5,
     "metadata": {},
     "output_type": "execute_result"
    }
   ],
   "source": [
    "X.head()"
   ]
  },
  {
   "cell_type": "code",
   "execution_count": 6,
   "id": "unauthorized-export",
   "metadata": {
    "execution": {
     "iopub.execute_input": "2021-08-05T10:11:55.529080Z",
     "iopub.status.busy": "2021-08-05T10:11:55.528321Z",
     "iopub.status.idle": "2021-08-05T10:11:55.534261Z",
     "shell.execute_reply": "2021-08-05T10:11:55.533686Z",
     "shell.execute_reply.started": "2021-08-05T10:03:12.766729Z"
    },
    "papermill": {
     "duration": 0.025914,
     "end_time": "2021-08-05T10:11:55.534412",
     "exception": false,
     "start_time": "2021-08-05T10:11:55.508498",
     "status": "completed"
    },
    "tags": []
   },
   "outputs": [],
   "source": [
    "X['Embarked'].fillna('S', inplace = True)"
   ]
  },
  {
   "cell_type": "code",
   "execution_count": 7,
   "id": "recovered-subscription",
   "metadata": {
    "execution": {
     "iopub.execute_input": "2021-08-05T10:11:55.577305Z",
     "iopub.status.busy": "2021-08-05T10:11:55.576538Z",
     "iopub.status.idle": "2021-08-05T10:11:55.615320Z",
     "shell.execute_reply": "2021-08-05T10:11:55.615847Z",
     "shell.execute_reply.started": "2021-08-05T10:03:12.779314Z"
    },
    "papermill": {
     "duration": 0.06496,
     "end_time": "2021-08-05T10:11:55.616027",
     "exception": false,
     "start_time": "2021-08-05T10:11:55.551067",
     "status": "completed"
    },
    "tags": []
   },
   "outputs": [
    {
     "name": "stdout",
     "output_type": "stream",
     "text": [
      "model score: 0.802\n"
     ]
    }
   ],
   "source": [
    "numeric_features = ['Age', 'Fare']\n",
    "numeric_transformer = Pipeline(steps=[\n",
    "    ('imputer', SimpleImputer(strategy='mean')),\n",
    "    ('scaler', StandardScaler())])\n",
    "\n",
    "categorical_features = ['Embarked', 'Sex', 'Pclass']\n",
    "categorical_transformer = OneHotEncoder(handle_unknown='ignore')\n",
    "\n",
    "preprocessor = ColumnTransformer(\n",
    "    transformers=[\n",
    "        ('num', numeric_transformer, numeric_features),\n",
    "        ('cat', categorical_transformer, categorical_features)])\n",
    "\n",
    "# Append classifier to preprocessing pipeline.\n",
    "# Now we have a full prediction pipeline.\n",
    "clf = Pipeline(steps=[('preprocessor', preprocessor),\n",
    "                      ('classifier', LogisticRegression())])\n",
    "\n",
    "X_train, X_val, y_train, y_val = train_test_split(X, y, test_size=0.3,\n",
    "                                                    random_state=42)\n",
    "\n",
    "clf.fit(X_train, y_train)\n",
    "print(\"model score: %.3f\" % clf.score(X_val, y_val))"
   ]
  },
  {
   "cell_type": "code",
   "execution_count": 8,
   "id": "turkish-machinery",
   "metadata": {
    "execution": {
     "iopub.execute_input": "2021-08-05T10:11:55.654799Z",
     "iopub.status.busy": "2021-08-05T10:11:55.654081Z",
     "iopub.status.idle": "2021-08-05T10:11:55.698293Z",
     "shell.execute_reply": "2021-08-05T10:11:55.697762Z",
     "shell.execute_reply.started": "2021-08-05T10:03:12.821177Z"
    },
    "papermill": {
     "duration": 0.065243,
     "end_time": "2021-08-05T10:11:55.698461",
     "exception": false,
     "start_time": "2021-08-05T10:11:55.633218",
     "status": "completed"
    },
    "tags": []
   },
   "outputs": [
    {
     "data": {
      "text/plain": [
       "Pipeline(steps=[('preprocessor',\n",
       "                 ColumnTransformer(transformers=[('num',\n",
       "                                                  Pipeline(steps=[('imputer',\n",
       "                                                                   SimpleImputer()),\n",
       "                                                                  ('scaler',\n",
       "                                                                   StandardScaler())]),\n",
       "                                                  ['Age', 'Fare']),\n",
       "                                                 ('cat',\n",
       "                                                  OneHotEncoder(handle_unknown='ignore'),\n",
       "                                                  ['Embarked', 'Sex',\n",
       "                                                   'Pclass'])])),\n",
       "                ('classifier', LogisticRegression())])"
      ]
     },
     "execution_count": 8,
     "metadata": {},
     "output_type": "execute_result"
    }
   ],
   "source": [
    "clf.fit(X,y)"
   ]
  },
  {
   "cell_type": "code",
   "execution_count": 9,
   "id": "developed-lawyer",
   "metadata": {
    "execution": {
     "iopub.execute_input": "2021-08-05T10:11:55.749664Z",
     "iopub.status.busy": "2021-08-05T10:11:55.748605Z",
     "iopub.status.idle": "2021-08-05T10:11:55.753469Z",
     "shell.execute_reply": "2021-08-05T10:11:55.752909Z",
     "shell.execute_reply.started": "2021-08-05T10:03:12.865954Z"
    },
    "papermill": {
     "duration": 0.037042,
     "end_time": "2021-08-05T10:11:55.753612",
     "exception": false,
     "start_time": "2021-08-05T10:11:55.716570",
     "status": "completed"
    },
    "tags": []
   },
   "outputs": [
    {
     "data": {
      "text/html": [
       "<div>\n",
       "<style scoped>\n",
       "    .dataframe tbody tr th:only-of-type {\n",
       "        vertical-align: middle;\n",
       "    }\n",
       "\n",
       "    .dataframe tbody tr th {\n",
       "        vertical-align: top;\n",
       "    }\n",
       "\n",
       "    .dataframe thead th {\n",
       "        text-align: right;\n",
       "    }\n",
       "</style>\n",
       "<table border=\"1\" class=\"dataframe\">\n",
       "  <thead>\n",
       "    <tr style=\"text-align: right;\">\n",
       "      <th></th>\n",
       "      <th>Pclass</th>\n",
       "      <th>Sex</th>\n",
       "      <th>Age</th>\n",
       "      <th>SibSp</th>\n",
       "      <th>Parch</th>\n",
       "      <th>Fare</th>\n",
       "      <th>Embarked</th>\n",
       "    </tr>\n",
       "  </thead>\n",
       "  <tbody>\n",
       "    <tr>\n",
       "      <th>445</th>\n",
       "      <td>1</td>\n",
       "      <td>male</td>\n",
       "      <td>4.0</td>\n",
       "      <td>0</td>\n",
       "      <td>2</td>\n",
       "      <td>81.8583</td>\n",
       "      <td>S</td>\n",
       "    </tr>\n",
       "    <tr>\n",
       "      <th>650</th>\n",
       "      <td>3</td>\n",
       "      <td>male</td>\n",
       "      <td>NaN</td>\n",
       "      <td>0</td>\n",
       "      <td>0</td>\n",
       "      <td>7.8958</td>\n",
       "      <td>S</td>\n",
       "    </tr>\n",
       "    <tr>\n",
       "      <th>172</th>\n",
       "      <td>3</td>\n",
       "      <td>female</td>\n",
       "      <td>1.0</td>\n",
       "      <td>1</td>\n",
       "      <td>1</td>\n",
       "      <td>11.1333</td>\n",
       "      <td>S</td>\n",
       "    </tr>\n",
       "    <tr>\n",
       "      <th>450</th>\n",
       "      <td>2</td>\n",
       "      <td>male</td>\n",
       "      <td>36.0</td>\n",
       "      <td>1</td>\n",
       "      <td>2</td>\n",
       "      <td>27.7500</td>\n",
       "      <td>S</td>\n",
       "    </tr>\n",
       "    <tr>\n",
       "      <th>314</th>\n",
       "      <td>2</td>\n",
       "      <td>male</td>\n",
       "      <td>43.0</td>\n",
       "      <td>1</td>\n",
       "      <td>1</td>\n",
       "      <td>26.2500</td>\n",
       "      <td>S</td>\n",
       "    </tr>\n",
       "  </tbody>\n",
       "</table>\n",
       "</div>"
      ],
      "text/plain": [
       "     Pclass     Sex   Age  SibSp  Parch     Fare Embarked\n",
       "445       1    male   4.0      0      2  81.8583        S\n",
       "650       3    male   NaN      0      0   7.8958        S\n",
       "172       3  female   1.0      1      1  11.1333        S\n",
       "450       2    male  36.0      1      2  27.7500        S\n",
       "314       2    male  43.0      1      1  26.2500        S"
      ]
     },
     "execution_count": 9,
     "metadata": {},
     "output_type": "execute_result"
    }
   ],
   "source": [
    "X_train.head()"
   ]
  },
  {
   "cell_type": "code",
   "execution_count": 10,
   "id": "bottom-truth",
   "metadata": {
    "execution": {
     "iopub.execute_input": "2021-08-05T10:11:55.796313Z",
     "iopub.status.busy": "2021-08-05T10:11:55.795229Z",
     "iopub.status.idle": "2021-08-05T10:11:55.810194Z",
     "shell.execute_reply": "2021-08-05T10:11:55.809572Z",
     "shell.execute_reply.started": "2021-08-05T10:03:12.879904Z"
    },
    "papermill": {
     "duration": 0.03866,
     "end_time": "2021-08-05T10:11:55.810340",
     "exception": false,
     "start_time": "2021-08-05T10:11:55.771680",
     "status": "completed"
    },
    "tags": []
   },
   "outputs": [],
   "source": [
    "test_data = pd.read_csv('/kaggle/input/titanic/test.csv')"
   ]
  },
  {
   "cell_type": "code",
   "execution_count": 11,
   "id": "athletic-annotation",
   "metadata": {
    "execution": {
     "iopub.execute_input": "2021-08-05T10:11:55.852570Z",
     "iopub.status.busy": "2021-08-05T10:11:55.851872Z",
     "iopub.status.idle": "2021-08-05T10:11:55.854376Z",
     "shell.execute_reply": "2021-08-05T10:11:55.853706Z",
     "shell.execute_reply.started": "2021-08-05T10:03:12.90139Z"
    },
    "papermill": {
     "duration": 0.025881,
     "end_time": "2021-08-05T10:11:55.854532",
     "exception": false,
     "start_time": "2021-08-05T10:11:55.828651",
     "status": "completed"
    },
    "tags": []
   },
   "outputs": [],
   "source": [
    "y = test_data['PassengerId']"
   ]
  },
  {
   "cell_type": "code",
   "execution_count": 12,
   "id": "affiliated-constant",
   "metadata": {
    "execution": {
     "iopub.execute_input": "2021-08-05T10:11:55.897976Z",
     "iopub.status.busy": "2021-08-05T10:11:55.897204Z",
     "iopub.status.idle": "2021-08-05T10:11:55.900055Z",
     "shell.execute_reply": "2021-08-05T10:11:55.899293Z",
     "shell.execute_reply.started": "2021-08-05T10:03:12.910212Z"
    },
    "papermill": {
     "duration": 0.027602,
     "end_time": "2021-08-05T10:11:55.900213",
     "exception": false,
     "start_time": "2021-08-05T10:11:55.872611",
     "status": "completed"
    },
    "tags": []
   },
   "outputs": [],
   "source": [
    "test_data = test_data.drop(['PassengerId','Cabin','Ticket','Name'],axis = 1)"
   ]
  },
  {
   "cell_type": "code",
   "execution_count": 13,
   "id": "scenic-prevention",
   "metadata": {
    "execution": {
     "iopub.execute_input": "2021-08-05T10:11:55.940088Z",
     "iopub.status.busy": "2021-08-05T10:11:55.939401Z",
     "iopub.status.idle": "2021-08-05T10:11:55.948525Z",
     "shell.execute_reply": "2021-08-05T10:11:55.947927Z",
     "shell.execute_reply.started": "2021-08-05T10:03:12.923015Z"
    },
    "papermill": {
     "duration": 0.02983,
     "end_time": "2021-08-05T10:11:55.948687",
     "exception": false,
     "start_time": "2021-08-05T10:11:55.918857",
     "status": "completed"
    },
    "tags": []
   },
   "outputs": [
    {
     "data": {
      "text/plain": [
       "0       892\n",
       "1       893\n",
       "2       894\n",
       "3       895\n",
       "4       896\n",
       "       ... \n",
       "413    1305\n",
       "414    1306\n",
       "415    1307\n",
       "416    1308\n",
       "417    1309\n",
       "Name: PassengerId, Length: 418, dtype: int64"
      ]
     },
     "execution_count": 13,
     "metadata": {},
     "output_type": "execute_result"
    }
   ],
   "source": [
    "y"
   ]
  },
  {
   "cell_type": "code",
   "execution_count": 14,
   "id": "alien-parent",
   "metadata": {
    "execution": {
     "iopub.execute_input": "2021-08-05T10:11:55.992914Z",
     "iopub.status.busy": "2021-08-05T10:11:55.992041Z",
     "iopub.status.idle": "2021-08-05T10:11:55.995578Z",
     "shell.execute_reply": "2021-08-05T10:11:55.996123Z",
     "shell.execute_reply.started": "2021-08-05T10:03:12.942242Z"
    },
    "papermill": {
     "duration": 0.028212,
     "end_time": "2021-08-05T10:11:55.996298",
     "exception": false,
     "start_time": "2021-08-05T10:11:55.968086",
     "status": "completed"
    },
    "tags": []
   },
   "outputs": [
    {
     "data": {
      "text/plain": [
       "Index(['Pclass', 'Sex', 'Age', 'SibSp', 'Parch', 'Fare', 'Embarked'], dtype='object')"
      ]
     },
     "execution_count": 14,
     "metadata": {},
     "output_type": "execute_result"
    }
   ],
   "source": [
    "test_data.columns"
   ]
  },
  {
   "cell_type": "code",
   "execution_count": 15,
   "id": "palestinian-warehouse",
   "metadata": {
    "execution": {
     "iopub.execute_input": "2021-08-05T10:11:56.039198Z",
     "iopub.status.busy": "2021-08-05T10:11:56.038512Z",
     "iopub.status.idle": "2021-08-05T10:11:56.041782Z",
     "shell.execute_reply": "2021-08-05T10:11:56.041107Z",
     "shell.execute_reply.started": "2021-08-05T10:03:12.953987Z"
    },
    "papermill": {
     "duration": 0.027256,
     "end_time": "2021-08-05T10:11:56.041931",
     "exception": false,
     "start_time": "2021-08-05T10:11:56.014675",
     "status": "completed"
    },
    "tags": []
   },
   "outputs": [],
   "source": [
    "test_data['Embarked'].fillna('S', inplace = True)"
   ]
  },
  {
   "cell_type": "code",
   "execution_count": 16,
   "id": "beginning-result",
   "metadata": {
    "execution": {
     "iopub.execute_input": "2021-08-05T10:11:56.090511Z",
     "iopub.status.busy": "2021-08-05T10:11:56.089634Z",
     "iopub.status.idle": "2021-08-05T10:11:56.094073Z",
     "shell.execute_reply": "2021-08-05T10:11:56.093365Z",
     "shell.execute_reply.started": "2021-08-05T10:03:12.967213Z"
    },
    "papermill": {
     "duration": 0.033701,
     "end_time": "2021-08-05T10:11:56.094236",
     "exception": false,
     "start_time": "2021-08-05T10:11:56.060535",
     "status": "completed"
    },
    "tags": []
   },
   "outputs": [],
   "source": [
    "predictions = clf.predict(test_data)"
   ]
  },
  {
   "cell_type": "code",
   "execution_count": 17,
   "id": "floppy-perception",
   "metadata": {
    "execution": {
     "iopub.execute_input": "2021-08-05T10:11:56.139305Z",
     "iopub.status.busy": "2021-08-05T10:11:56.138351Z",
     "iopub.status.idle": "2021-08-05T10:11:56.142476Z",
     "shell.execute_reply": "2021-08-05T10:11:56.142944Z",
     "shell.execute_reply.started": "2021-08-05T10:03:12.988001Z"
    },
    "papermill": {
     "duration": 0.02917,
     "end_time": "2021-08-05T10:11:56.143119",
     "exception": false,
     "start_time": "2021-08-05T10:11:56.113949",
     "status": "completed"
    },
    "tags": []
   },
   "outputs": [
    {
     "data": {
      "text/plain": [
       "array([0, 0, 0, 0, 1, 0, 1, 0, 1, 0, 0, 0, 1, 0, 1, 1, 0, 0, 1, 1, 0, 0,\n",
       "       1, 1, 1, 0, 1, 0, 0, 0, 0, 0, 0, 1, 1, 0, 1, 1, 0, 0, 0, 0, 0, 1,\n",
       "       1, 0, 0, 0, 1, 0, 0, 0, 1, 1, 0, 0, 0, 0, 0, 1, 0, 0, 0, 1, 1, 1,\n",
       "       1, 0, 1, 1, 1, 0, 1, 1, 1, 1, 0, 1, 0, 1, 0, 0, 0, 0, 0, 0, 1, 1,\n",
       "       1, 0, 1, 0, 1, 0, 1, 0, 1, 0, 1, 0, 1, 0, 0, 0, 1, 0, 0, 0, 0, 0,\n",
       "       0, 1, 1, 1, 1, 0, 0, 1, 1, 1, 1, 0, 1, 0, 0, 1, 0, 1, 0, 0, 0, 0,\n",
       "       1, 0, 0, 0, 0, 0, 1, 0, 1, 1, 0, 0, 0, 0, 0, 0, 0, 0, 1, 0, 0, 0,\n",
       "       0, 0, 1, 1, 0, 1, 1, 0, 1, 0, 0, 1, 0, 0, 1, 1, 0, 0, 0, 0, 0, 1,\n",
       "       1, 0, 1, 1, 0, 1, 1, 0, 1, 0, 1, 0, 1, 0, 0, 0, 0, 0, 0, 0, 1, 1,\n",
       "       0, 1, 1, 0, 0, 1, 0, 1, 1, 0, 1, 0, 0, 0, 0, 1, 0, 0, 1, 0, 1, 0,\n",
       "       1, 0, 1, 0, 1, 1, 0, 1, 0, 0, 0, 1, 0, 0, 0, 0, 0, 0, 1, 1, 1, 1,\n",
       "       0, 0, 0, 0, 1, 0, 1, 1, 1, 0, 1, 0, 0, 0, 0, 0, 1, 0, 0, 0, 1, 1,\n",
       "       0, 0, 0, 0, 1, 0, 0, 0, 1, 1, 0, 1, 0, 0, 0, 0, 1, 0, 1, 1, 1, 0,\n",
       "       0, 0, 0, 0, 0, 1, 0, 0, 0, 0, 1, 0, 0, 0, 0, 0, 0, 0, 1, 1, 0, 0,\n",
       "       0, 0, 0, 0, 0, 1, 1, 1, 0, 0, 0, 0, 0, 0, 0, 0, 1, 0, 1, 0, 0, 0,\n",
       "       1, 0, 0, 1, 0, 0, 0, 0, 0, 0, 0, 0, 0, 1, 0, 1, 0, 1, 0, 1, 1, 0,\n",
       "       0, 0, 1, 0, 1, 0, 0, 1, 0, 1, 1, 0, 1, 1, 0, 1, 1, 0, 0, 1, 0, 0,\n",
       "       1, 1, 1, 0, 0, 0, 0, 0, 1, 1, 0, 1, 0, 0, 0, 0, 0, 1, 0, 0, 0, 1,\n",
       "       0, 1, 0, 0, 1, 0, 1, 1, 0, 0, 0, 0, 1, 1, 1, 1, 1, 0, 1, 0, 0, 0])"
      ]
     },
     "execution_count": 17,
     "metadata": {},
     "output_type": "execute_result"
    }
   ],
   "source": [
    "predictions"
   ]
  },
  {
   "cell_type": "code",
   "execution_count": 18,
   "id": "boolean-romance",
   "metadata": {
    "execution": {
     "iopub.execute_input": "2021-08-05T10:11:56.187586Z",
     "iopub.status.busy": "2021-08-05T10:11:56.186862Z",
     "iopub.status.idle": "2021-08-05T10:11:56.196403Z",
     "shell.execute_reply": "2021-08-05T10:11:56.195860Z",
     "shell.execute_reply.started": "2021-08-05T10:03:12.999342Z"
    },
    "papermill": {
     "duration": 0.034407,
     "end_time": "2021-08-05T10:11:56.196570",
     "exception": false,
     "start_time": "2021-08-05T10:11:56.162163",
     "status": "completed"
    },
    "tags": []
   },
   "outputs": [
    {
     "name": "stdout",
     "output_type": "stream",
     "text": [
      "Your submission was successfully saved!\n"
     ]
    }
   ],
   "source": [
    "output = pd.DataFrame({'PassengerId': y, 'Survived': predictions})\n",
    "output.to_csv('my_submission.csv', index=False)\n",
    "print(\"Your submission was successfully saved!\")"
   ]
  }
 ],
 "metadata": {
  "kernelspec": {
   "display_name": "Python 3",
   "language": "python",
   "name": "python3"
  },
  "language_info": {
   "codemirror_mode": {
    "name": "ipython",
    "version": 3
   },
   "file_extension": ".py",
   "mimetype": "text/x-python",
   "name": "python",
   "nbconvert_exporter": "python",
   "pygments_lexer": "ipython3",
   "version": "3.7.10"
  },
  "papermill": {
   "default_parameters": {},
   "duration": 11.879489,
   "end_time": "2021-08-05T10:11:57.028204",
   "environment_variables": {},
   "exception": null,
   "input_path": "__notebook__.ipynb",
   "output_path": "__notebook__.ipynb",
   "parameters": {},
   "start_time": "2021-08-05T10:11:45.148715",
   "version": "2.3.3"
  }
 },
 "nbformat": 4,
 "nbformat_minor": 5
}
