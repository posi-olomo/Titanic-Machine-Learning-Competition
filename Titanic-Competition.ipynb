{
 "cells": [
  {
   "cell_type": "code",
   "execution_count": 1,
   "id": "returning-former",
   "metadata": {
    "_cell_guid": "b1076dfc-b9ad-4769-8c92-a6c4dae69d19",
    "_uuid": "8f2839f25d086af736a60e9eeb907d3b93b6e0e5",
    "execution": {
     "iopub.execute_input": "2021-08-05T09:53:57.903567Z",
     "iopub.status.busy": "2021-08-05T09:53:57.901829Z",
     "iopub.status.idle": "2021-08-05T09:53:57.916627Z",
     "shell.execute_reply": "2021-08-05T09:53:57.917290Z",
     "shell.execute_reply.started": "2021-08-05T09:53:30.818208Z"
    },
    "papermill": {
     "duration": 0.045448,
     "end_time": "2021-08-05T09:53:57.917675",
     "exception": false,
     "start_time": "2021-08-05T09:53:57.872227",
     "status": "completed"
    },
    "tags": []
   },
   "outputs": [
    {
     "name": "stdout",
     "output_type": "stream",
     "text": [
      "/kaggle/input/titanic/train.csv\n",
      "/kaggle/input/titanic/test.csv\n",
      "/kaggle/input/titanic/gender_submission.csv\n"
     ]
    }
   ],
   "source": [
    "# This Python 3 environment comes with many helpful analytics libraries installed\n",
    "# It is defined by the kaggle/python Docker image: https://github.com/kaggle/docker-python\n",
    "# For example, here's several helpful packages to load\n",
    "\n",
    "import numpy as np # linear algebra\n",
    "import pandas as pd # data processing, CSV file I/O (e.g. pd.read_csv)\n",
    "\n",
    "# Input data files are available in the read-only \"../input/\" directory\n",
    "# For example, running this (by clicking run or pressing Shift+Enter) will list all files under the input directory\n",
    "\n",
    "import os\n",
    "for dirname, _, filenames in os.walk('/kaggle/input'):\n",
    "    for filename in filenames:\n",
    "        print(os.path.join(dirname, filename))\n",
    "\n",
    "# You can write up to 20GB to the current directory (/kaggle/working/) that gets preserved as output when you create a version using \"Save & Run All\" \n",
    "# You can also write temporary files to /kaggle/temp/, but they won't be saved outside of the current session"
   ]
  },
  {
   "cell_type": "code",
   "execution_count": 2,
   "id": "metallic-south",
   "metadata": {
    "execution": {
     "iopub.execute_input": "2021-08-05T09:53:57.969683Z",
     "iopub.status.busy": "2021-08-05T09:53:57.968946Z",
     "iopub.status.idle": "2021-08-05T09:53:59.318643Z",
     "shell.execute_reply": "2021-08-05T09:53:59.317451Z",
     "shell.execute_reply.started": "2021-08-05T09:53:30.840739Z"
    },
    "papermill": {
     "duration": 1.380154,
     "end_time": "2021-08-05T09:53:59.318832",
     "exception": false,
     "start_time": "2021-08-05T09:53:57.938678",
     "status": "completed"
    },
    "tags": []
   },
   "outputs": [],
   "source": [
    "from sklearn.metrics import mean_absolute_error as mae\n",
    "from sklearn.metrics import roc_auc_score\n",
    "from sklearn.model_selection import cross_val_score\n",
    "from sklearn.metrics import confusion_matrix, classification_report\n",
    "from sklearn.compose import ColumnTransformer\n",
    "from sklearn.datasets import fetch_openml\n",
    "from sklearn.pipeline import Pipeline\n",
    "from sklearn.impute import SimpleImputer\n",
    "from sklearn.preprocessing import StandardScaler, OneHotEncoder\n",
    "from sklearn.linear_model import LogisticRegression\n",
    "from sklearn.model_selection import train_test_split, GridSearchCV"
   ]
  },
  {
   "cell_type": "code",
   "execution_count": 3,
   "id": "threaded-array",
   "metadata": {
    "execution": {
     "iopub.execute_input": "2021-08-05T09:53:59.358159Z",
     "iopub.status.busy": "2021-08-05T09:53:59.357435Z",
     "iopub.status.idle": "2021-08-05T09:53:59.380425Z",
     "shell.execute_reply": "2021-08-05T09:53:59.379815Z",
     "shell.execute_reply.started": "2021-08-05T09:53:30.855084Z"
    },
    "papermill": {
     "duration": 0.044932,
     "end_time": "2021-08-05T09:53:59.380600",
     "exception": false,
     "start_time": "2021-08-05T09:53:59.335668",
     "status": "completed"
    },
    "tags": []
   },
   "outputs": [],
   "source": [
    "train_data = pd.read_csv('/kaggle/input/titanic/train.csv')\n",
    "y = train_data['Survived']"
   ]
  },
  {
   "cell_type": "code",
   "execution_count": 4,
   "id": "geological-delhi",
   "metadata": {
    "execution": {
     "iopub.execute_input": "2021-08-05T09:53:59.427577Z",
     "iopub.status.busy": "2021-08-05T09:53:59.426580Z",
     "iopub.status.idle": "2021-08-05T09:53:59.431565Z",
     "shell.execute_reply": "2021-08-05T09:53:59.430960Z",
     "shell.execute_reply.started": "2021-08-05T09:53:30.873346Z"
    },
    "papermill": {
     "duration": 0.034949,
     "end_time": "2021-08-05T09:53:59.431728",
     "exception": false,
     "start_time": "2021-08-05T09:53:59.396779",
     "status": "completed"
    },
    "tags": []
   },
   "outputs": [
    {
     "data": {
      "text/plain": [
       "Index(['Pclass', 'Name', 'Sex', 'Age', 'SibSp', 'Parch', 'Fare', 'Embarked'], dtype='object')"
      ]
     },
     "execution_count": 4,
     "metadata": {},
     "output_type": "execute_result"
    }
   ],
   "source": [
    "X = train_data\n",
    "X = X.drop(['PassengerId', 'Survived','Ticket','Cabin'],axis = 1)\n",
    "X.columns"
   ]
  },
  {
   "cell_type": "code",
   "execution_count": 5,
   "id": "dimensional-potential",
   "metadata": {
    "execution": {
     "iopub.execute_input": "2021-08-05T09:53:59.468956Z",
     "iopub.status.busy": "2021-08-05T09:53:59.468195Z",
     "iopub.status.idle": "2021-08-05T09:53:59.490465Z",
     "shell.execute_reply": "2021-08-05T09:53:59.491065Z",
     "shell.execute_reply.started": "2021-08-05T09:53:30.884675Z"
    },
    "papermill": {
     "duration": 0.043145,
     "end_time": "2021-08-05T09:53:59.491320",
     "exception": false,
     "start_time": "2021-08-05T09:53:59.448175",
     "status": "completed"
    },
    "tags": []
   },
   "outputs": [
    {
     "data": {
      "text/html": [
       "<div>\n",
       "<style scoped>\n",
       "    .dataframe tbody tr th:only-of-type {\n",
       "        vertical-align: middle;\n",
       "    }\n",
       "\n",
       "    .dataframe tbody tr th {\n",
       "        vertical-align: top;\n",
       "    }\n",
       "\n",
       "    .dataframe thead th {\n",
       "        text-align: right;\n",
       "    }\n",
       "</style>\n",
       "<table border=\"1\" class=\"dataframe\">\n",
       "  <thead>\n",
       "    <tr style=\"text-align: right;\">\n",
       "      <th></th>\n",
       "      <th>Pclass</th>\n",
       "      <th>Name</th>\n",
       "      <th>Sex</th>\n",
       "      <th>Age</th>\n",
       "      <th>SibSp</th>\n",
       "      <th>Parch</th>\n",
       "      <th>Fare</th>\n",
       "      <th>Embarked</th>\n",
       "    </tr>\n",
       "  </thead>\n",
       "  <tbody>\n",
       "    <tr>\n",
       "      <th>0</th>\n",
       "      <td>3</td>\n",
       "      <td>Braund, Mr. Owen Harris</td>\n",
       "      <td>male</td>\n",
       "      <td>22.0</td>\n",
       "      <td>1</td>\n",
       "      <td>0</td>\n",
       "      <td>7.2500</td>\n",
       "      <td>S</td>\n",
       "    </tr>\n",
       "    <tr>\n",
       "      <th>1</th>\n",
       "      <td>1</td>\n",
       "      <td>Cumings, Mrs. John Bradley (Florence Briggs Th...</td>\n",
       "      <td>female</td>\n",
       "      <td>38.0</td>\n",
       "      <td>1</td>\n",
       "      <td>0</td>\n",
       "      <td>71.2833</td>\n",
       "      <td>C</td>\n",
       "    </tr>\n",
       "    <tr>\n",
       "      <th>2</th>\n",
       "      <td>3</td>\n",
       "      <td>Heikkinen, Miss. Laina</td>\n",
       "      <td>female</td>\n",
       "      <td>26.0</td>\n",
       "      <td>0</td>\n",
       "      <td>0</td>\n",
       "      <td>7.9250</td>\n",
       "      <td>S</td>\n",
       "    </tr>\n",
       "    <tr>\n",
       "      <th>3</th>\n",
       "      <td>1</td>\n",
       "      <td>Futrelle, Mrs. Jacques Heath (Lily May Peel)</td>\n",
       "      <td>female</td>\n",
       "      <td>35.0</td>\n",
       "      <td>1</td>\n",
       "      <td>0</td>\n",
       "      <td>53.1000</td>\n",
       "      <td>S</td>\n",
       "    </tr>\n",
       "    <tr>\n",
       "      <th>4</th>\n",
       "      <td>3</td>\n",
       "      <td>Allen, Mr. William Henry</td>\n",
       "      <td>male</td>\n",
       "      <td>35.0</td>\n",
       "      <td>0</td>\n",
       "      <td>0</td>\n",
       "      <td>8.0500</td>\n",
       "      <td>S</td>\n",
       "    </tr>\n",
       "  </tbody>\n",
       "</table>\n",
       "</div>"
      ],
      "text/plain": [
       "   Pclass                                               Name     Sex   Age  \\\n",
       "0       3                            Braund, Mr. Owen Harris    male  22.0   \n",
       "1       1  Cumings, Mrs. John Bradley (Florence Briggs Th...  female  38.0   \n",
       "2       3                             Heikkinen, Miss. Laina  female  26.0   \n",
       "3       1       Futrelle, Mrs. Jacques Heath (Lily May Peel)  female  35.0   \n",
       "4       3                           Allen, Mr. William Henry    male  35.0   \n",
       "\n",
       "   SibSp  Parch     Fare Embarked  \n",
       "0      1      0   7.2500        S  \n",
       "1      1      0  71.2833        C  \n",
       "2      0      0   7.9250        S  \n",
       "3      1      0  53.1000        S  \n",
       "4      0      0   8.0500        S  "
      ]
     },
     "execution_count": 5,
     "metadata": {},
     "output_type": "execute_result"
    }
   ],
   "source": [
    "X.head()"
   ]
  },
  {
   "cell_type": "code",
   "execution_count": 6,
   "id": "forced-subject",
   "metadata": {
    "execution": {
     "iopub.execute_input": "2021-08-05T09:53:59.533174Z",
     "iopub.status.busy": "2021-08-05T09:53:59.532446Z",
     "iopub.status.idle": "2021-08-05T09:54:00.693645Z",
     "shell.execute_reply": "2021-08-05T09:54:00.694171Z",
     "shell.execute_reply.started": "2021-08-05T09:53:30.908915Z"
    },
    "papermill": {
     "duration": 1.183965,
     "end_time": "2021-08-05T09:54:00.694421",
     "exception": false,
     "start_time": "2021-08-05T09:53:59.510456",
     "status": "completed"
    },
    "tags": []
   },
   "outputs": [],
   "source": [
    "for i in X['Name']:\n",
    "    X = X.replace(i, len(i))\n",
    "    \n",
    "X['Embarked'].fillna('S', inplace = True)"
   ]
  },
  {
   "cell_type": "code",
   "execution_count": 7,
   "id": "sonic-screw",
   "metadata": {
    "execution": {
     "iopub.execute_input": "2021-08-05T09:54:00.732161Z",
     "iopub.status.busy": "2021-08-05T09:54:00.731473Z",
     "iopub.status.idle": "2021-08-05T09:54:00.780591Z",
     "shell.execute_reply": "2021-08-05T09:54:00.779855Z",
     "shell.execute_reply.started": "2021-08-05T09:53:32.065303Z"
    },
    "papermill": {
     "duration": 0.06931,
     "end_time": "2021-08-05T09:54:00.780786",
     "exception": false,
     "start_time": "2021-08-05T09:54:00.711476",
     "status": "completed"
    },
    "tags": []
   },
   "outputs": [
    {
     "name": "stdout",
     "output_type": "stream",
     "text": [
      "model score: 0.799\n"
     ]
    }
   ],
   "source": [
    "numeric_features = ['Age', 'Fare','Name']\n",
    "numeric_transformer = Pipeline(steps=[\n",
    "    ('imputer', SimpleImputer(strategy='mean')),\n",
    "    ('scaler', StandardScaler())])\n",
    "\n",
    "categorical_features = ['Embarked', 'Sex', 'Pclass']\n",
    "categorical_transformer = OneHotEncoder(handle_unknown='ignore')\n",
    "\n",
    "preprocessor = ColumnTransformer(\n",
    "    transformers=[\n",
    "        ('num', numeric_transformer, numeric_features),\n",
    "        ('cat', categorical_transformer, categorical_features)])\n",
    "\n",
    "# Append classifier to preprocessing pipeline.\n",
    "# Now we have a full prediction pipeline.\n",
    "clf = Pipeline(steps=[('preprocessor', preprocessor),\n",
    "                      ('classifier', LogisticRegression())])\n",
    "\n",
    "X_train, X_val, y_train, y_val = train_test_split(X, y, test_size=0.2,\n",
    "                                                    random_state=0)\n",
    "\n",
    "clf.fit(X_train, y_train)\n",
    "print(\"model score: %.3f\" % clf.score(X_val, y_val))"
   ]
  },
  {
   "cell_type": "code",
   "execution_count": 8,
   "id": "unavailable-fabric",
   "metadata": {
    "execution": {
     "iopub.execute_input": "2021-08-05T09:54:00.828337Z",
     "iopub.status.busy": "2021-08-05T09:54:00.827567Z",
     "iopub.status.idle": "2021-08-05T09:54:00.892085Z",
     "shell.execute_reply": "2021-08-05T09:54:00.893204Z",
     "shell.execute_reply.started": "2021-08-05T09:53:32.108227Z"
    },
    "papermill": {
     "duration": 0.094094,
     "end_time": "2021-08-05T09:54:00.894198",
     "exception": false,
     "start_time": "2021-08-05T09:54:00.800104",
     "status": "completed"
    },
    "tags": []
   },
   "outputs": [
    {
     "data": {
      "text/plain": [
       "Pipeline(steps=[('preprocessor',\n",
       "                 ColumnTransformer(transformers=[('num',\n",
       "                                                  Pipeline(steps=[('imputer',\n",
       "                                                                   SimpleImputer()),\n",
       "                                                                  ('scaler',\n",
       "                                                                   StandardScaler())]),\n",
       "                                                  ['Age', 'Fare', 'Name']),\n",
       "                                                 ('cat',\n",
       "                                                  OneHotEncoder(handle_unknown='ignore'),\n",
       "                                                  ['Embarked', 'Sex',\n",
       "                                                   'Pclass'])])),\n",
       "                ('classifier', LogisticRegression())])"
      ]
     },
     "execution_count": 8,
     "metadata": {},
     "output_type": "execute_result"
    }
   ],
   "source": [
    "clf.fit(X,y)"
   ]
  },
  {
   "cell_type": "code",
   "execution_count": 9,
   "id": "weekly-essay",
   "metadata": {
    "execution": {
     "iopub.execute_input": "2021-08-05T09:54:00.970935Z",
     "iopub.status.busy": "2021-08-05T09:54:00.969774Z",
     "iopub.status.idle": "2021-08-05T09:54:00.989743Z",
     "shell.execute_reply": "2021-08-05T09:54:00.990340Z",
     "shell.execute_reply.started": "2021-08-05T09:53:32.173540Z"
    },
    "papermill": {
     "duration": 0.061478,
     "end_time": "2021-08-05T09:54:00.990565",
     "exception": false,
     "start_time": "2021-08-05T09:54:00.929087",
     "status": "completed"
    },
    "tags": []
   },
   "outputs": [
    {
     "data": {
      "text/html": [
       "<div>\n",
       "<style scoped>\n",
       "    .dataframe tbody tr th:only-of-type {\n",
       "        vertical-align: middle;\n",
       "    }\n",
       "\n",
       "    .dataframe tbody tr th {\n",
       "        vertical-align: top;\n",
       "    }\n",
       "\n",
       "    .dataframe thead th {\n",
       "        text-align: right;\n",
       "    }\n",
       "</style>\n",
       "<table border=\"1\" class=\"dataframe\">\n",
       "  <thead>\n",
       "    <tr style=\"text-align: right;\">\n",
       "      <th></th>\n",
       "      <th>Pclass</th>\n",
       "      <th>Name</th>\n",
       "      <th>Sex</th>\n",
       "      <th>Age</th>\n",
       "      <th>SibSp</th>\n",
       "      <th>Parch</th>\n",
       "      <th>Fare</th>\n",
       "      <th>Embarked</th>\n",
       "    </tr>\n",
       "  </thead>\n",
       "  <tbody>\n",
       "    <tr>\n",
       "      <th>140</th>\n",
       "      <td>3</td>\n",
       "      <td>29</td>\n",
       "      <td>female</td>\n",
       "      <td>NaN</td>\n",
       "      <td>0</td>\n",
       "      <td>2</td>\n",
       "      <td>15.2458</td>\n",
       "      <td>C</td>\n",
       "    </tr>\n",
       "    <tr>\n",
       "      <th>439</th>\n",
       "      <td>2</td>\n",
       "      <td>38</td>\n",
       "      <td>male</td>\n",
       "      <td>31.0</td>\n",
       "      <td>0</td>\n",
       "      <td>0</td>\n",
       "      <td>10.5000</td>\n",
       "      <td>S</td>\n",
       "    </tr>\n",
       "    <tr>\n",
       "      <th>817</th>\n",
       "      <td>2</td>\n",
       "      <td>18</td>\n",
       "      <td>male</td>\n",
       "      <td>31.0</td>\n",
       "      <td>1</td>\n",
       "      <td>1</td>\n",
       "      <td>37.0042</td>\n",
       "      <td>C</td>\n",
       "    </tr>\n",
       "    <tr>\n",
       "      <th>378</th>\n",
       "      <td>3</td>\n",
       "      <td>19</td>\n",
       "      <td>male</td>\n",
       "      <td>20.0</td>\n",
       "      <td>0</td>\n",
       "      <td>0</td>\n",
       "      <td>4.0125</td>\n",
       "      <td>C</td>\n",
       "    </tr>\n",
       "    <tr>\n",
       "      <th>491</th>\n",
       "      <td>3</td>\n",
       "      <td>19</td>\n",
       "      <td>male</td>\n",
       "      <td>21.0</td>\n",
       "      <td>0</td>\n",
       "      <td>0</td>\n",
       "      <td>7.2500</td>\n",
       "      <td>S</td>\n",
       "    </tr>\n",
       "  </tbody>\n",
       "</table>\n",
       "</div>"
      ],
      "text/plain": [
       "     Pclass  Name     Sex   Age  SibSp  Parch     Fare Embarked\n",
       "140       3    29  female   NaN      0      2  15.2458        C\n",
       "439       2    38    male  31.0      0      0  10.5000        S\n",
       "817       2    18    male  31.0      1      1  37.0042        C\n",
       "378       3    19    male  20.0      0      0   4.0125        C\n",
       "491       3    19    male  21.0      0      0   7.2500        S"
      ]
     },
     "execution_count": 9,
     "metadata": {},
     "output_type": "execute_result"
    }
   ],
   "source": [
    "X_train.head()"
   ]
  },
  {
   "cell_type": "code",
   "execution_count": 10,
   "id": "realistic-overall",
   "metadata": {
    "execution": {
     "iopub.execute_input": "2021-08-05T09:54:01.031719Z",
     "iopub.status.busy": "2021-08-05T09:54:01.030857Z",
     "iopub.status.idle": "2021-08-05T09:54:01.046319Z",
     "shell.execute_reply": "2021-08-05T09:54:01.045663Z",
     "shell.execute_reply.started": "2021-08-05T09:53:32.197746Z"
    },
    "papermill": {
     "duration": 0.036946,
     "end_time": "2021-08-05T09:54:01.046521",
     "exception": false,
     "start_time": "2021-08-05T09:54:01.009575",
     "status": "completed"
    },
    "tags": []
   },
   "outputs": [],
   "source": [
    "test_data = pd.read_csv('/kaggle/input/titanic/test.csv')"
   ]
  },
  {
   "cell_type": "code",
   "execution_count": 11,
   "id": "biological-madagascar",
   "metadata": {
    "execution": {
     "iopub.execute_input": "2021-08-05T09:54:01.089345Z",
     "iopub.status.busy": "2021-08-05T09:54:01.088522Z",
     "iopub.status.idle": "2021-08-05T09:54:01.091836Z",
     "shell.execute_reply": "2021-08-05T09:54:01.091252Z",
     "shell.execute_reply.started": "2021-08-05T09:53:32.219980Z"
    },
    "papermill": {
     "duration": 0.02721,
     "end_time": "2021-08-05T09:54:01.091998",
     "exception": false,
     "start_time": "2021-08-05T09:54:01.064788",
     "status": "completed"
    },
    "tags": []
   },
   "outputs": [],
   "source": [
    "y = test_data['PassengerId']"
   ]
  },
  {
   "cell_type": "code",
   "execution_count": 12,
   "id": "previous-investigation",
   "metadata": {
    "execution": {
     "iopub.execute_input": "2021-08-05T09:54:01.136377Z",
     "iopub.status.busy": "2021-08-05T09:54:01.135255Z",
     "iopub.status.idle": "2021-08-05T09:54:01.138560Z",
     "shell.execute_reply": "2021-08-05T09:54:01.137852Z",
     "shell.execute_reply.started": "2021-08-05T09:53:32.238539Z"
    },
    "papermill": {
     "duration": 0.028537,
     "end_time": "2021-08-05T09:54:01.138739",
     "exception": false,
     "start_time": "2021-08-05T09:54:01.110202",
     "status": "completed"
    },
    "tags": []
   },
   "outputs": [],
   "source": [
    "test_data = test_data.drop(['PassengerId','Cabin','Ticket'],axis = 1)"
   ]
  },
  {
   "cell_type": "code",
   "execution_count": 13,
   "id": "variable-roman",
   "metadata": {
    "execution": {
     "iopub.execute_input": "2021-08-05T09:54:01.179164Z",
     "iopub.status.busy": "2021-08-05T09:54:01.178515Z",
     "iopub.status.idle": "2021-08-05T09:54:01.186311Z",
     "shell.execute_reply": "2021-08-05T09:54:01.186840Z",
     "shell.execute_reply.started": "2021-08-05T09:53:32.254432Z"
    },
    "papermill": {
     "duration": 0.02997,
     "end_time": "2021-08-05T09:54:01.187042",
     "exception": false,
     "start_time": "2021-08-05T09:54:01.157072",
     "status": "completed"
    },
    "tags": []
   },
   "outputs": [
    {
     "data": {
      "text/plain": [
       "0       892\n",
       "1       893\n",
       "2       894\n",
       "3       895\n",
       "4       896\n",
       "       ... \n",
       "413    1305\n",
       "414    1306\n",
       "415    1307\n",
       "416    1308\n",
       "417    1309\n",
       "Name: PassengerId, Length: 418, dtype: int64"
      ]
     },
     "execution_count": 13,
     "metadata": {},
     "output_type": "execute_result"
    }
   ],
   "source": [
    "y"
   ]
  },
  {
   "cell_type": "code",
   "execution_count": 14,
   "id": "perfect-cleaner",
   "metadata": {
    "execution": {
     "iopub.execute_input": "2021-08-05T09:54:01.228174Z",
     "iopub.status.busy": "2021-08-05T09:54:01.227475Z",
     "iopub.status.idle": "2021-08-05T09:54:01.234163Z",
     "shell.execute_reply": "2021-08-05T09:54:01.233505Z",
     "shell.execute_reply.started": "2021-08-05T09:53:32.266026Z"
    },
    "papermill": {
     "duration": 0.028773,
     "end_time": "2021-08-05T09:54:01.234336",
     "exception": false,
     "start_time": "2021-08-05T09:54:01.205563",
     "status": "completed"
    },
    "tags": []
   },
   "outputs": [
    {
     "data": {
      "text/plain": [
       "Index(['Pclass', 'Name', 'Sex', 'Age', 'SibSp', 'Parch', 'Fare', 'Embarked'], dtype='object')"
      ]
     },
     "execution_count": 14,
     "metadata": {},
     "output_type": "execute_result"
    }
   ],
   "source": [
    "test_data.columns"
   ]
  },
  {
   "cell_type": "code",
   "execution_count": 15,
   "id": "eastern-entity",
   "metadata": {
    "execution": {
     "iopub.execute_input": "2021-08-05T09:54:01.276032Z",
     "iopub.status.busy": "2021-08-05T09:54:01.275295Z",
     "iopub.status.idle": "2021-08-05T09:54:01.707642Z",
     "shell.execute_reply": "2021-08-05T09:54:01.708164Z",
     "shell.execute_reply.started": "2021-08-05T09:53:32.276819Z"
    },
    "papermill": {
     "duration": 0.455248,
     "end_time": "2021-08-05T09:54:01.708427",
     "exception": false,
     "start_time": "2021-08-05T09:54:01.253179",
     "status": "completed"
    },
    "tags": []
   },
   "outputs": [],
   "source": [
    "for i in test_data['Name']:\n",
    "    test_data = test_data.replace(i, len(i))\n",
    "    \n",
    "test_data['Embarked'].fillna('S', inplace = True)"
   ]
  },
  {
   "cell_type": "code",
   "execution_count": 16,
   "id": "resident-helena",
   "metadata": {
    "execution": {
     "iopub.execute_input": "2021-08-05T09:54:01.751580Z",
     "iopub.status.busy": "2021-08-05T09:54:01.750726Z",
     "iopub.status.idle": "2021-08-05T09:54:01.764168Z",
     "shell.execute_reply": "2021-08-05T09:54:01.763557Z",
     "shell.execute_reply.started": "2021-08-05T09:53:32.718901Z"
    },
    "papermill": {
     "duration": 0.036321,
     "end_time": "2021-08-05T09:54:01.764378",
     "exception": false,
     "start_time": "2021-08-05T09:54:01.728057",
     "status": "completed"
    },
    "tags": []
   },
   "outputs": [],
   "source": [
    "predictions = clf.predict(test_data)"
   ]
  },
  {
   "cell_type": "code",
   "execution_count": 17,
   "id": "annual-bronze",
   "metadata": {
    "execution": {
     "iopub.execute_input": "2021-08-05T09:54:01.809813Z",
     "iopub.status.busy": "2021-08-05T09:54:01.808814Z",
     "iopub.status.idle": "2021-08-05T09:54:01.813879Z",
     "shell.execute_reply": "2021-08-05T09:54:01.813297Z",
     "shell.execute_reply.started": "2021-08-05T09:53:32.734253Z"
    },
    "papermill": {
     "duration": 0.030875,
     "end_time": "2021-08-05T09:54:01.814040",
     "exception": false,
     "start_time": "2021-08-05T09:54:01.783165",
     "status": "completed"
    },
    "tags": []
   },
   "outputs": [
    {
     "data": {
      "text/plain": [
       "array([0, 0, 0, 0, 1, 0, 1, 0, 1, 0, 0, 0, 1, 0, 1, 1, 0, 0, 0, 1, 0, 0,\n",
       "       1, 1, 1, 0, 1, 0, 0, 0, 0, 0, 1, 1, 1, 0, 0, 0, 0, 0, 0, 0, 0, 1,\n",
       "       1, 0, 0, 0, 1, 1, 0, 0, 1, 1, 0, 0, 0, 0, 0, 1, 0, 0, 0, 1, 1, 1,\n",
       "       1, 0, 1, 1, 1, 0, 0, 1, 1, 1, 0, 1, 0, 1, 0, 0, 0, 0, 0, 0, 1, 1,\n",
       "       1, 0, 1, 0, 1, 0, 1, 0, 1, 0, 1, 0, 1, 0, 0, 0, 1, 0, 0, 0, 0, 0,\n",
       "       0, 1, 1, 1, 1, 0, 0, 1, 0, 1, 1, 0, 1, 0, 0, 1, 0, 1, 0, 0, 0, 0,\n",
       "       0, 0, 0, 0, 0, 0, 0, 0, 1, 1, 0, 0, 1, 0, 0, 0, 0, 0, 1, 0, 0, 1,\n",
       "       0, 0, 1, 0, 0, 1, 1, 0, 1, 0, 0, 1, 0, 0, 1, 1, 0, 0, 0, 0, 0, 1,\n",
       "       1, 0, 1, 1, 0, 1, 1, 0, 1, 0, 1, 0, 0, 0, 0, 0, 0, 0, 0, 0, 1, 1,\n",
       "       0, 1, 1, 0, 0, 1, 0, 1, 1, 0, 1, 0, 0, 0, 0, 1, 0, 0, 1, 0, 1, 0,\n",
       "       1, 0, 1, 0, 1, 1, 0, 1, 0, 0, 0, 1, 0, 0, 0, 0, 0, 0, 1, 1, 1, 1,\n",
       "       0, 0, 0, 0, 1, 0, 1, 1, 1, 0, 1, 0, 0, 0, 0, 0, 1, 0, 0, 0, 1, 1,\n",
       "       0, 0, 1, 0, 0, 0, 0, 0, 1, 1, 0, 1, 0, 0, 0, 0, 0, 0, 1, 1, 1, 0,\n",
       "       0, 0, 0, 0, 0, 1, 0, 0, 0, 0, 1, 0, 0, 0, 0, 0, 0, 0, 1, 1, 1, 0,\n",
       "       0, 0, 0, 0, 0, 1, 1, 1, 0, 0, 0, 0, 0, 0, 0, 0, 1, 0, 1, 1, 0, 0,\n",
       "       1, 1, 0, 1, 0, 0, 0, 0, 0, 0, 0, 0, 0, 1, 0, 1, 0, 1, 0, 1, 1, 0,\n",
       "       0, 0, 1, 0, 1, 0, 0, 1, 0, 1, 1, 0, 1, 0, 0, 1, 1, 0, 0, 1, 0, 0,\n",
       "       1, 1, 0, 0, 0, 0, 0, 0, 0, 1, 0, 1, 0, 0, 0, 0, 0, 1, 0, 0, 0, 1,\n",
       "       0, 1, 0, 0, 1, 0, 1, 0, 0, 1, 0, 0, 1, 1, 1, 1, 1, 0, 1, 0, 0, 0])"
      ]
     },
     "execution_count": 17,
     "metadata": {},
     "output_type": "execute_result"
    }
   ],
   "source": [
    "predictions"
   ]
  },
  {
   "cell_type": "code",
   "execution_count": 18,
   "id": "fitting-tunisia",
   "metadata": {
    "execution": {
     "iopub.execute_input": "2021-08-05T09:54:01.860222Z",
     "iopub.status.busy": "2021-08-05T09:54:01.859460Z",
     "iopub.status.idle": "2021-08-05T09:54:01.868376Z",
     "shell.execute_reply": "2021-08-05T09:54:01.868887Z",
     "shell.execute_reply.started": "2021-08-05T09:53:32.749504Z"
    },
    "papermill": {
     "duration": 0.035609,
     "end_time": "2021-08-05T09:54:01.869109",
     "exception": false,
     "start_time": "2021-08-05T09:54:01.833500",
     "status": "completed"
    },
    "tags": []
   },
   "outputs": [
    {
     "name": "stdout",
     "output_type": "stream",
     "text": [
      "Your submission was successfully saved!\n"
     ]
    }
   ],
   "source": [
    "output = pd.DataFrame({'PassengerId': y, 'Survived': predictions})\n",
    "output.to_csv('my_submission.csv', index=False)\n",
    "print(\"Your submission was successfully saved!\")"
   ]
  }
 ],
 "metadata": {
  "kernelspec": {
   "display_name": "Python 3",
   "language": "python",
   "name": "python3"
  },
  "language_info": {
   "codemirror_mode": {
    "name": "ipython",
    "version": 3
   },
   "file_extension": ".py",
   "mimetype": "text/x-python",
   "name": "python",
   "nbconvert_exporter": "python",
   "pygments_lexer": "ipython3",
   "version": "3.7.10"
  },
  "papermill": {
   "default_parameters": {},
   "duration": 14.974766,
   "end_time": "2021-08-05T09:54:03.895566",
   "environment_variables": {},
   "exception": null,
   "input_path": "__notebook__.ipynb",
   "output_path": "__notebook__.ipynb",
   "parameters": {},
   "start_time": "2021-08-05T09:53:48.920800",
   "version": "2.3.3"
  }
 },
 "nbformat": 4,
 "nbformat_minor": 5
}
